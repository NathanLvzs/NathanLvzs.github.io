{
 "cells": [
  {
   "cell_type": "markdown",
   "metadata": {},
   "source": [
    "# WordNet Concept Exploration\n",
    "\n",
    "> nathanlvzs"
   ]
  },
  {
   "cell_type": "code",
   "execution_count": 1,
   "metadata": {
    "collapsed": true
   },
   "outputs": [],
   "source": [
    "from nltk.corpus import wordnet as wn\n",
    "\n",
    "# synonym 同义词\n",
    "# lemma 词条\n"
   ]
  },
  {
   "cell_type": "code",
   "execution_count": 2,
   "metadata": {},
   "outputs": [],
   "source": [
    "# wordnet支持多种语言，但是没有中文\n",
    "# 部分nltk的resource没有下载，就不跑这个代码块啦\n",
    "# sorted(wn.langs())\n",
    "# 运行结果：\n",
    "# ['als', 'arb', 'cat', 'cmn', 'dan', 'eng', 'eus', 'fas',\n",
    "# 'fin', 'fra', 'fre', 'glg', 'heb', 'ind', 'ita', 'jpn', 'nno',\n",
    "# 'nob', 'pol', 'por', 'spa', 'tha', 'zsm']"
   ]
  },
  {
   "cell_type": "markdown",
   "metadata": {},
   "source": [
    "## Synset"
   ]
  },
  {
   "cell_type": "code",
   "execution_count": 3,
   "metadata": {},
   "outputs": [
    {
     "name": "stdout",
     "output_type": "stream",
     "text": [
      "[Synset('dog.n.01'), Synset('frump.n.01'), Synset('dog.n.03'), Synset('cad.n.01'), Synset('frank.n.02'), Synset('pawl.n.01'), Synset('andiron.n.01'), Synset('chase.v.01')]\n",
      "[Synset('chase.v.01')]\n",
      "a member of the genus Canis (probably descended from the common wolf) that has been domesticated by man since prehistoric times; occurs in many breeds\n",
      "['the dog barked all night']\n"
     ]
    }
   ],
   "source": [
    "# 查找单词，获取它全部的同义词集合synsets\n",
    "# 所谓synset，表示set of synonyms，是拥有同一个意思的同义词的集合\n",
    "# 一个单词，由于语言的发展，会存在有一种或多种意思，比如dog，会有如下的一些不同的意思。\n",
    "print(wn.synsets('dog'))\n",
    "# synset的标识由三部分组成：词语.词性.编号，表示一个概念？？？\n",
    "\n",
    "# 可以在synsets方法中指定pos参数来限制返回结果集的词性，NOUN,VERB,ADJ,ADV（顺序对应：名词、动词、形容词、副词）\n",
    "print(wn.synsets('dog', pos=wn.VERB))\n",
    "\n",
    "# 获取某一个同义词集合\n",
    "dog01 = wn.synset('dog.n.01')\n",
    "# 该同义词集合的概念定义\n",
    "print(dog01.definition())\n",
    "# 该同义词集合表示的概念的使用例子\n",
    "print(dog01.examples())\n"
   ]
  },
  {
   "cell_type": "code",
   "execution_count": 4,
   "metadata": {},
   "outputs": [
    {
     "name": "stdout",
     "output_type": "stream",
     "text": [
      "[Lemma('dog.n.01.dog'), Lemma('dog.n.01.domestic_dog'), Lemma('dog.n.01.Canis_familiaris')]\n",
      "dog\n",
      "domestic_dog\n",
      "Canis_familiaris\n",
      "Synset('dog.n.01')\n"
     ]
    }
   ],
   "source": [
    "# 获取该同义词集合中所有的词条\n",
    "print(dog01.lemmas())\n",
    "for lemma in dog01.lemmas():\n",
    "    print(lemma.name())\n",
    "# 从某个词典获取其对应的同义词集合\n",
    "lemma = dog01.lemmas()[0]\n",
    "print(lemma.synset())\n"
   ]
  },
  {
   "cell_type": "markdown",
   "metadata": {},
   "source": [
    "### 上位词hypernym\n",
    "\n",
    "所谓hypernym，表示某一个概念的上位词，假如A的上位词是B，简单的理解即是B是一个大的概念，A是B概念的一种情况，A更加具体。"
   ]
  },
  {
   "cell_type": "code",
   "execution_count": 5,
   "metadata": {},
   "outputs": [
    {
     "name": "stdout",
     "output_type": "stream",
     "text": [
      "[Synset('canine.n.02'), Synset('domestic_animal.n.01')]\n",
      "[Synset('entity.n.01')]\n"
     ]
    }
   ],
   "source": [
    "# 例如，A概念表示狗，B概念表示家养动物，我们知道狗是家养动物的一种，则可以称家养动物是狗的一个上位词。\n",
    "print(dog01.hypernyms())\n",
    "\n",
    "# 最顶层的上位词\n",
    "print(dog01.root_hypernyms())"
   ]
  },
  {
   "cell_type": "markdown",
   "metadata": {},
   "source": [
    "### 下位词hyponym\n"
   ]
  },
  {
   "cell_type": "code",
   "execution_count": 6,
   "metadata": {},
   "outputs": [
    {
     "name": "stdout",
     "output_type": "stream",
     "text": [
      "[Synset('basenji.n.01'), Synset('corgi.n.01'), Synset('cur.n.01'), Synset('dalmatian.n.02'), Synset('great_pyrenees.n.01'), Synset('griffon.n.02'), Synset('hunting_dog.n.01'), Synset('lapdog.n.01'), Synset('leonberg.n.01'), Synset('mexican_hairless.n.01'), Synset('newfoundland.n.01'), Synset('pooch.n.01'), Synset('poodle.n.01'), Synset('pug.n.01'), Synset('puppy.n.01'), Synset('spitz.n.01'), Synset('toy_dog.n.01'), Synset('working_dog.n.01')]\n"
     ]
    }
   ],
   "source": [
    "# 跟上位词对应，也有下位词概念，英文单词为hyponym\n",
    "# 在下面的例子中，basenji、corgi等都是狗的不同品种，都是狗这个具体概念下的更加具体的概念\n",
    "print(dog01.hyponyms())"
   ]
  },
  {
   "cell_type": "markdown",
   "metadata": {},
   "source": [
    "### 整体关系词holonym\n",
    "\n",
    "假如A是B的整体关系词，则意味着B是A的一个组成部分，A是一个整体"
   ]
  },
  {
   "cell_type": "code",
   "execution_count": 7,
   "metadata": {},
   "outputs": [
    {
     "name": "stdout",
     "output_type": "stream",
     "text": [
      "[Synset('canis.n.01'), Synset('pack.n.06')]\n"
     ]
    }
   ],
   "source": [
    "# member表示成员。假如A的member_holonym是B，既然是成员，A本身就是一个独立的个体，B表示一个群体。\n",
    "# 比如下面的例子中，dog是犬属动物（canis）的一种，也是犬群（pack）的组成部分。wolf pack 狼群\n",
    "print(dog01.member_holonyms())\n"
   ]
  },
  {
   "cell_type": "code",
   "execution_count": 8,
   "metadata": {},
   "outputs": [
    {
     "name": "stdout",
     "output_type": "stream",
     "text": [
      "[Synset('face.n.01'), Synset('visual_system.n.01')]\n"
     ]
    }
   ],
   "source": [
    "# part表示部分，假如A的part_holonym是B，A只是一个组成部分，并不是独立个体，B是由A以及其他部分所组成的\n",
    "# dog并没有part_holonym，我们换一个词，换成eye眼睛看看\n",
    "# 这个例子中，眼睛是脸、视觉系统的组成部分\n",
    "print(wn.synset('eye.n.01').part_holonyms())"
   ]
  },
  {
   "cell_type": "code",
   "execution_count": 9,
   "metadata": {},
   "outputs": [
    {
     "name": "stdout",
     "output_type": "stream",
     "text": [
      "[Synset('coal.n.01'), Synset('limestone.n.01'), Synset('petroleum.n.01')]\n"
     ]
    }
   ],
   "source": [
    "# substance表示物质，类似一种物质是某化合物中的一个组成成分的关系\n",
    "# dog并不是物质，我们换一个词，换成carbon碳看看\n",
    "# 这个例子中，carbon碳是煤炭、石灰岩、汽油的组成物质\n",
    "print(wn.synset('carbon.n.01').substance_holonyms())"
   ]
  },
  {
   "cell_type": "markdown",
   "metadata": {},
   "source": [
    "### 部分关系词meronym\n",
    "\n",
    "也称局部关系词。跟整体关系词相对应。\n"
   ]
  },
  {
   "cell_type": "code",
   "execution_count": 10,
   "metadata": {},
   "outputs": [
    {
     "name": "stdout",
     "output_type": "stream",
     "text": [
      "[Synset('dog.n.01'), Synset('jackal.n.01'), Synset('wolf.n.01')]\n",
      "[Synset('beard.n.01'), Synset('brow.n.01'), Synset('cheek.n.01'), Synset('chin.n.01'), Synset('eye.n.01'), Synset('eyebrow.n.01'), Synset('facial.n.01'), Synset('facial_muscle.n.01'), Synset('facial_vein.n.01'), Synset('feature.n.02'), Synset('jaw.n.02'), Synset('jowl.n.02'), Synset('mouth.n.02'), Synset('nose.n.01')]\n",
      "[Synset('carbon.n.01')]\n"
     ]
    }
   ],
   "source": [
    "print(wn.synset('canis.n.01').member_meronyms())\n",
    "\n",
    "print(wn.synset('face.n.01').part_meronyms())\n",
    "\n",
    "print(wn.synset('coal.n.01').substance_meronyms())"
   ]
  },
  {
   "cell_type": "markdown",
   "metadata": {},
   "source": [
    "### 反义词antonym\n",
    "\n",
    "定义在lemma上而不是synset上"
   ]
  },
  {
   "cell_type": "code",
   "execution_count": 11,
   "metadata": {},
   "outputs": [
    {
     "name": "stdout",
     "output_type": "stream",
     "text": [
      "[Lemma('bad.a.01.bad')]\n"
     ]
    }
   ],
   "source": [
    "good = wn.synset('good.a.01')\n",
    "print(good.lemmas()[0].antonyms())\n"
   ]
  },
  {
   "cell_type": "markdown",
   "metadata": {},
   "source": [
    "## Lemmas\n",
    "\n",
    "```python\n",
    "# 词条名称%词性编号%词条的_lexname_index%词条的_lex_id%词条所属synset的第一个相似synset的第一个词条（head_lemma）名称%head_lemma的_lex_id\n",
    "tup = (lemma._name, WordNetCorpusReader._pos_numbers[synset._pos],\n",
    "       lemma._lexname_index, lemma._lex_id, head_name, head_id)\n",
    "lemma._key = ('%s%%%d:%02d:%02d:%s:%s' % tup).lower()\n",
    "```"
   ]
  },
  {
   "cell_type": "code",
   "execution_count": 12,
   "metadata": {},
   "outputs": [
    {
     "name": "stdout",
     "output_type": "stream",
     "text": [
      "Lemma('feed.v.06.eat') eat%2:34:02::\n",
      "4\n",
      "\n",
      "Lemma('dog.n.01.dog') dog%1:05:00::\n",
      "42\n"
     ]
    }
   ],
   "source": [
    "eat = wn.lemma('eat.v.03.eat')\n",
    "print(eat, eat.key())\n",
    "# 在wordnet中的出现次数\n",
    "print(eat.count())\n",
    "\n",
    "print()\n",
    "\n",
    "dog = wn.lemma('dog.n.01.dog')\n",
    "print(dog, dog.key())\n",
    "print(dog.count())"
   ]
  },
  {
   "cell_type": "code",
   "execution_count": 13,
   "metadata": {},
   "outputs": [
    {
     "name": "stdout",
     "output_type": "stream",
     "text": [
      "[Lemma('vocalize.v.02.vocalize')]\n",
      "[Lemma('voice.n.02.voice')]\n",
      "[Lemma('instrumental.a.01.instrumental')]\n"
     ]
    }
   ],
   "source": [
    "# 定义在lemma上的一些关系\n",
    "vocal = wn.lemma('vocal.a.01.vocal')\n",
    "\n",
    "# 相关形态变化得到的词条\n",
    "print(vocal.derivationally_related_forms())\n",
    "\n",
    "# pertainym n. 适用，存在，相关\n",
    "print(vocal.pertainyms())\n",
    "\n",
    "print(vocal.antonyms())"
   ]
  },
  {
   "cell_type": "markdown",
   "metadata": {},
   "source": [
    "## 相似度计算\n",
    "\n",
    "`synset1.path_similarity(synset2)`: Return a score denoting how similar two word senses are, based on the shortest path that connects the senses in the is-a (hypernym/hypnoym) taxonomy. The score is in the range 0 to 1. By default, there is now a fake root node added to verbs so for cases where previously a path could not be found---and None was returned---it should return a value. The old behavior can be achieved by setting simulate_root to be False. A score of 1 represents identity i.e. comparing a sense with itself will return 1.\n",
    "\n",
    "相关源码如下：\n",
    "```python\n",
    "distance = self.shortest_path_distance(other, simulate_root=simulate_root and self._needs_root())\n",
    "if distance is None or distance < 0:\n",
    "    return None\n",
    "return 1.0 / (distance + 1)\n",
    "```\n",
    "`synset1.lch_similarity(synset2)`: Leacock-Chodorow Similarity: Return a score denoting how similar two word senses are, based on the shortest path that connects the senses (as above) and the maximum depth of the taxonomy in which the senses occur. The relationship is given as -log(p/2d) where p is the shortest path length and d the taxonomy depth.\n",
    "\n",
    "`synset1.wup_similarity(synset2)`: Wu-Palmer Similarity: Return a score denoting how similar two word senses are, based on the depth of the two senses in the taxonomy and that of their Least Common Subsumer (most specific ancestor node). Note that at this time the scores given do _not_ always agree with those given by Pedersen's Perl implementation of Wordnet Similarity.\n",
    "\n",
    "还有其他的相似度计算方式，大同小异。。。"
   ]
  },
  {
   "cell_type": "code",
   "execution_count": 14,
   "metadata": {},
   "outputs": [
    {
     "name": "stdout",
     "output_type": "stream",
     "text": [
      "0.2\n",
      "0.5\n"
     ]
    }
   ],
   "source": [
    "dog = wn.synset('dog.n.01')\n",
    "cat = wn.synset('cat.n.01')\n",
    "corgi = wn.synset('corgi.n.01')\n",
    "\n",
    "print(dog.path_similarity(cat))\n",
    "print(dog.path_similarity(corgi))"
   ]
  },
  {
   "cell_type": "markdown",
   "metadata": {},
   "source": [
    "## 其他\n",
    "\n",
    "通过morphy来查找不在wordnet中的形态\n"
   ]
  },
  {
   "cell_type": "code",
   "execution_count": 15,
   "metadata": {},
   "outputs": [
    {
     "name": "stdout",
     "output_type": "stream",
     "text": [
      "None\n",
      "deny\n",
      "[]\n",
      "[Synset('deny.v.01'), Synset('deny.v.02'), Synset('deny.v.03'), Synset('deny.v.04'), Synset('deny.v.05'), Synset('traverse.v.03'), Synset('deny.v.07')]\n"
     ]
    }
   ],
   "source": [
    "print(wn.morphy('denied', wn.NOUN))\n",
    "print(wn.morphy('denied', wn.VERB))\n",
    "\n",
    "print(wn.synsets('denied', wn.NOUN))\n",
    "print(wn.synsets('denied', wn.VERB))"
   ]
  },
  {
   "cell_type": "code",
   "execution_count": 16,
   "metadata": {},
   "outputs": [
    {
     "name": "stdout",
     "output_type": "stream",
     "text": [
      "dog\n",
      "church\n",
      "aardwolf\n",
      "book\n"
     ]
    }
   ],
   "source": [
    "# Morphy uses a combination of inflectional ending rules and exception lists to handle a variety of different possibilities\n",
    "print(wn.morphy('dogs'))\n",
    "print(wn.morphy('churches'))\n",
    "print(wn.morphy('aardwolves'))\n",
    "print(wn.morphy('book', wn.NOUN))"
   ]
  },
  {
   "cell_type": "code",
   "execution_count": null,
   "metadata": {
    "collapsed": true
   },
   "outputs": [],
   "source": []
  }
 ],
 "metadata": {
  "kernelspec": {
   "display_name": "Python 2",
   "language": "python",
   "name": "python2"
  },
  "language_info": {
   "codemirror_mode": {
    "name": "ipython",
    "version": 2
   },
   "file_extension": ".py",
   "mimetype": "text/x-python",
   "name": "python",
   "nbconvert_exporter": "python",
   "pygments_lexer": "ipython2",
   "version": "2.7.13"
  }
 },
 "nbformat": 4,
 "nbformat_minor": 2
}
